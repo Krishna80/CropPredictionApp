{
 "cells": [
  {
   "cell_type": "code",
   "execution_count": 21,
   "id": "ada6d13c-74e9-4fc7-9ac0-f6e7717f0090",
   "metadata": {},
   "outputs": [
    {
     "data": {
      "text/html": [
       "<div>\n",
       "<style scoped>\n",
       "    .dataframe tbody tr th:only-of-type {\n",
       "        vertical-align: middle;\n",
       "    }\n",
       "\n",
       "    .dataframe tbody tr th {\n",
       "        vertical-align: top;\n",
       "    }\n",
       "\n",
       "    .dataframe thead th {\n",
       "        text-align: right;\n",
       "    }\n",
       "</style>\n",
       "<table border=\"1\" class=\"dataframe\">\n",
       "  <thead>\n",
       "    <tr style=\"text-align: right;\">\n",
       "      <th></th>\n",
       "      <th>N</th>\n",
       "      <th>P</th>\n",
       "      <th>K</th>\n",
       "      <th>temperature</th>\n",
       "      <th>humidity</th>\n",
       "      <th>ph</th>\n",
       "      <th>rainfall</th>\n",
       "      <th>label</th>\n",
       "    </tr>\n",
       "  </thead>\n",
       "  <tbody>\n",
       "    <tr>\n",
       "      <th>27173</th>\n",
       "      <td>57.86</td>\n",
       "      <td>37</td>\n",
       "      <td>115</td>\n",
       "      <td>24.643055</td>\n",
       "      <td>68.762363</td>\n",
       "      <td>6.531751</td>\n",
       "      <td>8.17</td>\n",
       "      <td>cotton</td>\n",
       "    </tr>\n",
       "    <tr>\n",
       "      <th>37290</th>\n",
       "      <td>79.29</td>\n",
       "      <td>44</td>\n",
       "      <td>153</td>\n",
       "      <td>33.062526</td>\n",
       "      <td>79.011549</td>\n",
       "      <td>4.520128</td>\n",
       "      <td>9.07</td>\n",
       "      <td>rice</td>\n",
       "    </tr>\n",
       "    <tr>\n",
       "      <th>29708</th>\n",
       "      <td>77.14</td>\n",
       "      <td>123</td>\n",
       "      <td>99</td>\n",
       "      <td>40.008783</td>\n",
       "      <td>64.075162</td>\n",
       "      <td>6.861095</td>\n",
       "      <td>12.26</td>\n",
       "      <td>banana</td>\n",
       "    </tr>\n",
       "    <tr>\n",
       "      <th>32844</th>\n",
       "      <td>86.43</td>\n",
       "      <td>110</td>\n",
       "      <td>175</td>\n",
       "      <td>20.596297</td>\n",
       "      <td>82.297521</td>\n",
       "      <td>6.416537</td>\n",
       "      <td>10.44</td>\n",
       "      <td>sugarcane</td>\n",
       "    </tr>\n",
       "    <tr>\n",
       "      <th>31780</th>\n",
       "      <td>13.57</td>\n",
       "      <td>22</td>\n",
       "      <td>71</td>\n",
       "      <td>22.136333</td>\n",
       "      <td>12.226109</td>\n",
       "      <td>6.022140</td>\n",
       "      <td>0.95</td>\n",
       "      <td>wheat</td>\n",
       "    </tr>\n",
       "    <tr>\n",
       "      <th>22454</th>\n",
       "      <td>22.86</td>\n",
       "      <td>37</td>\n",
       "      <td>43</td>\n",
       "      <td>27.714098</td>\n",
       "      <td>80.975275</td>\n",
       "      <td>5.611015</td>\n",
       "      <td>1.57</td>\n",
       "      <td>millet</td>\n",
       "    </tr>\n",
       "    <tr>\n",
       "      <th>48143</th>\n",
       "      <td>62.14</td>\n",
       "      <td>68</td>\n",
       "      <td>170</td>\n",
       "      <td>43.643647</td>\n",
       "      <td>80.466099</td>\n",
       "      <td>8.687944</td>\n",
       "      <td>4.71</td>\n",
       "      <td>banana</td>\n",
       "    </tr>\n",
       "    <tr>\n",
       "      <th>3320</th>\n",
       "      <td>41.43</td>\n",
       "      <td>50</td>\n",
       "      <td>93</td>\n",
       "      <td>44.156466</td>\n",
       "      <td>88.725791</td>\n",
       "      <td>5.260218</td>\n",
       "      <td>2.28</td>\n",
       "      <td>coffee</td>\n",
       "    </tr>\n",
       "    <tr>\n",
       "      <th>25175</th>\n",
       "      <td>86.43</td>\n",
       "      <td>124</td>\n",
       "      <td>154</td>\n",
       "      <td>34.298585</td>\n",
       "      <td>75.946400</td>\n",
       "      <td>6.440993</td>\n",
       "      <td>8.63</td>\n",
       "      <td>rice</td>\n",
       "    </tr>\n",
       "    <tr>\n",
       "      <th>44769</th>\n",
       "      <td>12.86</td>\n",
       "      <td>90</td>\n",
       "      <td>27</td>\n",
       "      <td>29.634099</td>\n",
       "      <td>54.613908</td>\n",
       "      <td>5.304573</td>\n",
       "      <td>6.14</td>\n",
       "      <td>coffee</td>\n",
       "    </tr>\n",
       "    <tr>\n",
       "      <th>23338</th>\n",
       "      <td>20.00</td>\n",
       "      <td>32</td>\n",
       "      <td>58</td>\n",
       "      <td>17.241041</td>\n",
       "      <td>26.353028</td>\n",
       "      <td>4.903369</td>\n",
       "      <td>6.16</td>\n",
       "      <td>wheat</td>\n",
       "    </tr>\n",
       "    <tr>\n",
       "      <th>1998</th>\n",
       "      <td>77.14</td>\n",
       "      <td>23</td>\n",
       "      <td>13</td>\n",
       "      <td>26.896150</td>\n",
       "      <td>58.637118</td>\n",
       "      <td>8.195724</td>\n",
       "      <td>10.93</td>\n",
       "      <td>millet</td>\n",
       "    </tr>\n",
       "    <tr>\n",
       "      <th>18482</th>\n",
       "      <td>2.14</td>\n",
       "      <td>118</td>\n",
       "      <td>25</td>\n",
       "      <td>27.906610</td>\n",
       "      <td>44.087442</td>\n",
       "      <td>7.598988</td>\n",
       "      <td>7.84</td>\n",
       "      <td>millet</td>\n",
       "    </tr>\n",
       "    <tr>\n",
       "      <th>1298</th>\n",
       "      <td>8.57</td>\n",
       "      <td>47</td>\n",
       "      <td>85</td>\n",
       "      <td>31.494467</td>\n",
       "      <td>72.455167</td>\n",
       "      <td>8.258739</td>\n",
       "      <td>2.89</td>\n",
       "      <td>banana</td>\n",
       "    </tr>\n",
       "    <tr>\n",
       "      <th>29630</th>\n",
       "      <td>4.29</td>\n",
       "      <td>128</td>\n",
       "      <td>109</td>\n",
       "      <td>34.787446</td>\n",
       "      <td>62.664618</td>\n",
       "      <td>3.928183</td>\n",
       "      <td>5.50</td>\n",
       "      <td>coffee</td>\n",
       "    </tr>\n",
       "  </tbody>\n",
       "</table>\n",
       "</div>"
      ],
      "text/plain": [
       "           N    P    K  temperature   humidity        ph  rainfall      label\n",
       "27173  57.86   37  115    24.643055  68.762363  6.531751      8.17     cotton\n",
       "37290  79.29   44  153    33.062526  79.011549  4.520128      9.07       rice\n",
       "29708  77.14  123   99    40.008783  64.075162  6.861095     12.26     banana\n",
       "32844  86.43  110  175    20.596297  82.297521  6.416537     10.44  sugarcane\n",
       "31780  13.57   22   71    22.136333  12.226109  6.022140      0.95      wheat\n",
       "22454  22.86   37   43    27.714098  80.975275  5.611015      1.57     millet\n",
       "48143  62.14   68  170    43.643647  80.466099  8.687944      4.71     banana\n",
       "3320   41.43   50   93    44.156466  88.725791  5.260218      2.28     coffee\n",
       "25175  86.43  124  154    34.298585  75.946400  6.440993      8.63       rice\n",
       "44769  12.86   90   27    29.634099  54.613908  5.304573      6.14     coffee\n",
       "23338  20.00   32   58    17.241041  26.353028  4.903369      6.16      wheat\n",
       "1998   77.14   23   13    26.896150  58.637118  8.195724     10.93     millet\n",
       "18482   2.14  118   25    27.906610  44.087442  7.598988      7.84     millet\n",
       "1298    8.57   47   85    31.494467  72.455167  8.258739      2.89     banana\n",
       "29630   4.29  128  109    34.787446  62.664618  3.928183      5.50     coffee"
      ]
     },
     "execution_count": 21,
     "metadata": {},
     "output_type": "execute_result"
    }
   ],
   "source": [
    "import pandas as pd\n",
    "import numpy as np\n",
    "import matplotlib.pyplot as plt\n",
    "import seaborn as sns\n",
    "from sklearn.metrics import confusion_matrix\n",
    "import joblib\n",
    "\n",
    "# Load the dataset\n",
    "file_path = \"New Crop 50K.csv\"\n",
    "farm = pd.read_csv(file_path)\n",
    "farm.sample(15)\n"
   ]
  },
  {
   "cell_type": "code",
   "execution_count": null,
   "id": "5878e48c",
   "metadata": {},
   "outputs": [],
   "source": []
  },
  {
   "cell_type": "code",
   "execution_count": 22,
   "id": "6b5fae12-d537-4556-8913-ffa640b1e694",
   "metadata": {},
   "outputs": [
    {
     "name": "stdout",
     "output_type": "stream",
     "text": [
      "<class 'pandas.core.frame.DataFrame'>\n",
      "RangeIndex: 50000 entries, 0 to 49999\n",
      "Data columns (total 8 columns):\n",
      " #   Column       Non-Null Count  Dtype  \n",
      "---  ------       --------------  -----  \n",
      " 0   N            50000 non-null  float64\n",
      " 1   P            50000 non-null  int64  \n",
      " 2   K            50000 non-null  int64  \n",
      " 3   temperature  50000 non-null  float64\n",
      " 4   humidity     50000 non-null  float64\n",
      " 5   ph           50000 non-null  float64\n",
      " 6   rainfall     50000 non-null  float64\n",
      " 7   label        50000 non-null  object \n",
      "dtypes: float64(5), int64(2), object(1)\n",
      "memory usage: 3.1+ MB\n",
      "Dataset Info:\n",
      " None\n",
      "\n",
      "First 5 Rows:\n",
      "        N    P    K  temperature   humidity        ph  rainfall      label\n",
      "0  87.86    6   36    31.160854  73.254164  8.371057      1.88     banana\n",
      "1  50.00  103  138    19.713716  46.572311  7.254831      2.28      wheat\n",
      "2  76.43  115  186    43.453928  44.732484  8.900949      6.40  sugarcane\n",
      "3  70.71   38   60    32.577117  19.010997  5.216870      2.95     coffee\n",
      "4  30.00   40   82    31.968089  78.094285  5.200056     10.17       rice\n"
     ]
    }
   ],
   "source": [
    "# Display basic dataset information\n",
    "print(\"Dataset Info:\\n\", farm.info())\n",
    "print(\"\\nFirst 5 Rows:\\n\", farm.head())\n",
    "\n"
   ]
  },
  {
   "cell_type": "code",
   "execution_count": null,
   "id": "a11b900f",
   "metadata": {},
   "outputs": [],
   "source": []
  },
  {
   "cell_type": "code",
   "execution_count": 23,
   "id": "4044e7be-f872-411c-84eb-ff2036a84799",
   "metadata": {},
   "outputs": [
    {
     "name": "stdout",
     "output_type": "stream",
     "text": [
      "\n",
      "Missing Values:\n",
      " N              0\n",
      "P              0\n",
      "K              0\n",
      "temperature    0\n",
      "humidity       0\n",
      "ph             0\n",
      "rainfall       0\n",
      "label          0\n",
      "dtype: int64\n"
     ]
    }
   ],
   "source": [
    "# Check for missing values\n",
    "print(\"\\nMissing Values:\\n\", farm.isnull().sum())\n",
    "\n"
   ]
  },
  {
   "cell_type": "code",
   "execution_count": null,
   "id": "50331fee",
   "metadata": {},
   "outputs": [],
   "source": []
  },
  {
   "cell_type": "code",
   "execution_count": 24,
   "id": "be55b912-abce-4ea8-99c4-6a328e6959f2",
   "metadata": {},
   "outputs": [
    {
     "name": "stdout",
     "output_type": "stream",
     "text": [
      "\n",
      "Summary Statistics:\n",
      "                   N             P            K   temperature      humidity  \\\n",
      "count  50000.000000  50000.000000  50000.00000  50000.000000  50000.000000   \n",
      "mean      49.642576     74.881220    104.60452     27.460445     49.948560   \n",
      "std       28.957839     40.329283     57.78150     10.113574     23.104379   \n",
      "min        0.000000      5.000000      5.00000     10.000506     10.002027   \n",
      "25%       24.290000     40.000000     55.00000     18.702389     29.914254   \n",
      "50%       49.645000     75.000000    104.00000     27.408532     49.990220   \n",
      "75%       75.000000    110.000000    155.00000     36.191366     70.036294   \n",
      "max       99.290000    144.000000    204.00000     44.999820     89.995762   \n",
      "\n",
      "                 ph      rainfall  \n",
      "count  50000.000000  50000.000000  \n",
      "mean       6.261625      6.649578  \n",
      "std        1.577444      3.351712  \n",
      "min        3.500124      0.830000  \n",
      "25%        4.904280      3.750000  \n",
      "50%        6.272278      6.650000  \n",
      "75%        7.620060      9.510000  \n",
      "max        8.999699     12.500000  \n"
     ]
    }
   ],
   "source": [
    "# Summary statistics\n",
    "desc_stats = farm.describe()\n",
    "print(\"\\nSummary Statistics:\\n\", desc_stats)\n",
    "desc_stats.to_csv(\"descriptive_statistics.csv\")\n",
    "\n",
    "\n"
   ]
  },
  {
   "cell_type": "code",
   "execution_count": null,
   "id": "484a7a36",
   "metadata": {},
   "outputs": [],
   "source": []
  },
  {
   "cell_type": "code",
   "execution_count": 25,
   "id": "76e16e75-6879-41d9-9b37-1323f368c7ea",
   "metadata": {},
   "outputs": [
    {
     "data": {
      "text/plain": [
       "label\n",
       "wheat        12055\n",
       "millet        8591\n",
       "coffee        6969\n",
       "banana        5925\n",
       "rice          5249\n",
       "sugarcane     2761\n",
       "cotton        1290\n",
       "soybean       1222\n",
       "groundnut     1218\n",
       "maize         1213\n",
       "tea           1193\n",
       "pulses        1167\n",
       "barley        1147\n",
       "Name: count, dtype: int64"
      ]
     },
     "execution_count": 25,
     "metadata": {},
     "output_type": "execute_result"
    }
   ],
   "source": [
    "farm.label.value_counts()"
   ]
  },
  {
   "cell_type": "code",
   "execution_count": null,
   "id": "cf8ce222",
   "metadata": {},
   "outputs": [],
   "source": []
  },
  {
   "cell_type": "code",
   "execution_count": null,
   "id": "89a4d760-5d51-4923-ae0f-ba1ec9c20f24",
   "metadata": {},
   "outputs": [],
   "source": []
  },
  {
   "cell_type": "code",
   "execution_count": 26,
   "id": "86557c75-77c2-4425-917c-f71e63140f30",
   "metadata": {},
   "outputs": [],
   "source": [
    "# Set Seaborn style\n",
    "sns.set_style(\"whitegrid\")\n",
    "\n"
   ]
  },
  {
   "cell_type": "code",
   "execution_count": null,
   "id": "de079903",
   "metadata": {},
   "outputs": [],
   "source": []
  },
  {
   "cell_type": "code",
   "execution_count": 27,
   "id": "f328e002-1203-4c01-92cd-1a34b3d71650",
   "metadata": {},
   "outputs": [
    {
     "data": {
      "image/png": "[encoded data removed]",
      "text/plain": [
       "<Figure size 1200x800 with 9 Axes>"
      ]
     },
     "metadata": {},
     "output_type": "display_data"
    }
   ],
   "source": [
    "# --- Visualization ---\n",
    "\n",
    "# 1. Distribution of each numerical column\n",
    "farm.hist(figsize=(12, 8), bins=20, edgecolor='black')\n",
    "plt.suptitle(\"Distribution of Numerical Features\", fontsize=14)\n",
    "plt.show()\n",
    "\n"
   ]
  },
  {
   "cell_type": "code",
   "execution_count": null,
   "id": "e6e1687f",
   "metadata": {},
   "outputs": [],
   "source": []
  },
  {
   "cell_type": "code",
   "execution_count": null,
   "id": "267569f7",
   "metadata": {},
   "outputs": [],
   "source": []
  },
  {
   "cell_type": "code",
   "execution_count": null,
   "id": "afa9e63b",
   "metadata": {},
   "outputs": [],
   "source": []
  },
  {
   "cell_type": "code",
   "execution_count": null,
   "id": "66862eb8",
   "metadata": {},
   "outputs": [],
   "source": []
  },
  {
   "cell_type": "code",
   "execution_count": null,
   "id": "89d6d6b1",
   "metadata": {},
   "outputs": [],
   "source": []
  },
  {
   "cell_type": "code",
   "execution_count": 28,
   "id": "5cf7b1b4-bd19-46c4-b398-8543b5505eb5",
   "metadata": {},
   "outputs": [
    {
     "data": {
      "image/png": "[encoded data removed]",
      "text/plain": [
       "<Figure size 1000x800 with 2 Axes>"
      ]
     },
     "metadata": {},
     "output_type": "display_data"
    }
   ],
   "source": [
    "# 2. Correlation heatmap\n",
    "# Remove non-numeric columns for correlation analysis\n",
    "numeric_df = farm.select_dtypes(include=['number'])\n",
    "\n",
    "# Compute the correlation matrix\n",
    "corr_matrix = numeric_df.corr()\n",
    "\n",
    "# Plot the correlation heatmap\n",
    "plt.figure(figsize=(10, 8))\n",
    "sns.heatmap(corr_matrix, annot=True, cmap='coolwarm', fmt='.2f', linewidths=0.5)\n",
    "plt.title('Correlation Heatmap')\n",
    "plt.show()\n",
    "\n"
   ]
  },
  {
   "cell_type": "code",
   "execution_count": null,
   "id": "6b0329d5-a3b7-4b0b-ae11-d646fe24c25f",
   "metadata": {},
   "outputs": [
    {
     "ename": "KeyboardInterrupt",
     "evalue": "",
     "output_type": "error",
     "traceback": [
      "\u001b[31m---------------------------------------------------------------------------\u001b[39m",
      "\u001b[31mKeyboardInterrupt\u001b[39m                         Traceback (most recent call last)",
      "\u001b[36mCell\u001b[39m\u001b[36m \u001b[39m\u001b[32mIn[29]\u001b[39m\u001b[32m, line 2\u001b[39m\n\u001b[32m      1\u001b[39m \u001b[38;5;66;03m# Pairplot to visualize relationships\u001b[39;00m\n\u001b[32m----> \u001b[39m\u001b[32m2\u001b[39m \u001b[43msns\u001b[49m\u001b[43m.\u001b[49m\u001b[43mpairplot\u001b[49m\u001b[43m(\u001b[49m\u001b[43mfarm\u001b[49m\u001b[43m,\u001b[49m\u001b[43m \u001b[49m\u001b[43mhue\u001b[49m\u001b[43m=\u001b[49m\u001b[33;43m'\u001b[39;49m\u001b[33;43mlabel\u001b[39;49m\u001b[33;43m'\u001b[39;49m\u001b[43m,\u001b[49m\u001b[43m \u001b[49m\u001b[43mdiag_kind\u001b[49m\u001b[43m=\u001b[49m\u001b[33;43m'\u001b[39;49m\u001b[33;43mkde\u001b[39;49m\u001b[33;43m'\u001b[39;49m\u001b[43m)\u001b[49m\n\u001b[32m      3\u001b[39m plt.legend(title=\u001b[33m'\u001b[39m\u001b[33mCrops\u001b[39m\u001b[33m'\u001b[39m, bbox_to_anchor=(\u001b[32m1.05\u001b[39m, \u001b[32m5\u001b[39m), loc=\u001b[33m'\u001b[39m\u001b[33mupper left\u001b[39m\u001b[33m'\u001b[39m)\n\u001b[32m      4\u001b[39m plt.show()\n",
      "\u001b[36mFile \u001b[39m\u001b[32mc:\\Users\\Krishna-PC\\AppData\\Local\\Programs\\Python\\Python311\\Lib\\site-packages\\seaborn\\axisgrid.py:2177\u001b[39m, in \u001b[36mpairplot\u001b[39m\u001b[34m(data, hue, hue_order, palette, vars, x_vars, y_vars, kind, diag_kind, markers, height, aspect, corner, dropna, plot_kws, diag_kws, grid_kws, size)\u001b[39m\n\u001b[32m   2175\u001b[39m \u001b[38;5;66;03m# Add a legend\u001b[39;00m\n\u001b[32m   2176\u001b[39m \u001b[38;5;28;01mif\u001b[39;00m hue \u001b[38;5;129;01mis\u001b[39;00m \u001b[38;5;129;01mnot\u001b[39;00m \u001b[38;5;28;01mNone\u001b[39;00m:\n\u001b[32m-> \u001b[39m\u001b[32m2177\u001b[39m     \u001b[43mgrid\u001b[49m\u001b[43m.\u001b[49m\u001b[43madd_legend\u001b[49m\u001b[43m(\u001b[49m\u001b[43m)\u001b[49m\n\u001b[32m   2179\u001b[39m grid.tight_layout()\n\u001b[32m   2181\u001b[39m \u001b[38;5;28;01mreturn\u001b[39;00m grid\n",
      "\u001b[36mFile \u001b[39m\u001b[32mc:\\Users\\Krishna-PC\\AppData\\Local\\Programs\\Python\\Python311\\Lib\\site-packages\\seaborn\\axisgrid.py:203\u001b[39m, in \u001b[36mGrid.add_legend\u001b[39m\u001b[34m(self, legend_data, title, label_order, adjust_subtitles, **kwargs)\u001b[39m\n\u001b[32m    200\u001b[39m \u001b[38;5;28mself\u001b[39m._figure.set_size_inches(fig_width + legend_width, fig_height)\n\u001b[32m    202\u001b[39m \u001b[38;5;66;03m# Draw the plot again to get the new transformations\u001b[39;00m\n\u001b[32m--> \u001b[39m\u001b[32m203\u001b[39m \u001b[43m_draw_figure\u001b[49m\u001b[43m(\u001b[49m\u001b[38;5;28;43mself\u001b[39;49m\u001b[43m.\u001b[49m\u001b[43m_figure\u001b[49m\u001b[43m)\u001b[49m\n\u001b[32m    205\u001b[39m \u001b[38;5;66;03m# Now calculate how much space we need on the right side\u001b[39;00m\n\u001b[32m    206\u001b[39m legend_width = figlegend.get_window_extent().width / \u001b[38;5;28mself\u001b[39m._figure.dpi\n",
      "\u001b[36mFile \u001b[39m\u001b[32mc:\\Users\\Krishna-PC\\AppData\\Local\\Programs\\Python\\Python311\\Lib\\site-packages\\seaborn\\utils.py:61\u001b[39m, in \u001b[36m_draw_figure\u001b[39m\u001b[34m(fig)\u001b[39m\n\u001b[32m     59\u001b[39m \u001b[38;5;250m\u001b[39m\u001b[33;03m\"\"\"Force draw of a matplotlib figure, accounting for back-compat.\"\"\"\u001b[39;00m\n\u001b[32m     60\u001b[39m \u001b[38;5;66;03m# See https://github.com/matplotlib/matplotlib/issues/19197 for context\u001b[39;00m\n\u001b[32m---> \u001b[39m\u001b[32m61\u001b[39m \u001b[43mfig\u001b[49m\u001b[43m.\u001b[49m\u001b[43mcanvas\u001b[49m\u001b[43m.\u001b[49m\u001b[43mdraw\u001b[49m\u001b[43m(\u001b[49m\u001b[43m)\u001b[49m\n\u001b[32m     62\u001b[39m \u001b[38;5;28;01mif\u001b[39;00m fig.stale:\n\u001b[32m     63\u001b[39m     \u001b[38;5;28;01mtry\u001b[39;00m:\n",
      "\u001b[36mFile \u001b[39m\u001b[32mc:\\Users\\Krishna-PC\\AppData\\Local\\Programs\\Python\\Python311\\Lib\\site-packages\\matplotlib\\backends\\backend_agg.py:382\u001b[39m, in \u001b[36mFigureCanvasAgg.draw\u001b[39m\u001b[34m(self)\u001b[39m\n\u001b[32m    379\u001b[39m \u001b[38;5;66;03m# Acquire a lock on the shared font cache.\u001b[39;00m\n\u001b[32m    380\u001b[39m \u001b[38;5;28;01mwith\u001b[39;00m (\u001b[38;5;28mself\u001b[39m.toolbar._wait_cursor_for_draw_cm() \u001b[38;5;28;01mif\u001b[39;00m \u001b[38;5;28mself\u001b[39m.toolbar\n\u001b[32m    381\u001b[39m       \u001b[38;5;28;01melse\u001b[39;00m nullcontext()):\n\u001b[32m--> \u001b[39m\u001b[32m382\u001b[39m     \u001b[38;5;28;43mself\u001b[39;49m\u001b[43m.\u001b[49m\u001b[43mfigure\u001b[49m\u001b[43m.\u001b[49m\u001b[43mdraw\u001b[49m\u001b[43m(\u001b[49m\u001b[38;5;28;43mself\u001b[39;49m\u001b[43m.\u001b[49m\u001b[43mrenderer\u001b[49m\u001b[43m)\u001b[49m\n\u001b[32m    383\u001b[39m     \u001b[38;5;66;03m# A GUI class may be need to update a window using this draw, so\u001b[39;00m\n\u001b[32m    384\u001b[39m     \u001b[38;5;66;03m# don't forget to call the superclass.\u001b[39;00m\n\u001b[32m    385\u001b[39m     \u001b[38;5;28msuper\u001b[39m().draw()\n",
      "\u001b[36mFile \u001b[39m\u001b[32mc:\\Users\\Krishna-PC\\AppData\\Local\\Programs\\Python\\Python311\\Lib\\site-packages\\matplotlib\\artist.py:94\u001b[39m, in \u001b[36m_finalize_rasterization.<locals>.draw_wrapper\u001b[39m\u001b[34m(artist, renderer, *args, **kwargs)\u001b[39m\n\u001b[32m     92\u001b[39m \u001b[38;5;129m@wraps\u001b[39m(draw)\n\u001b[32m     93\u001b[39m \u001b[38;5;28;01mdef\u001b[39;00m\u001b[38;5;250m \u001b[39m\u001b[34mdraw_wrapper\u001b[39m(artist, renderer, *args, **kwargs):\n\u001b[32m---> \u001b[39m\u001b[32m94\u001b[39m     result = \u001b[43mdraw\u001b[49m\u001b[43m(\u001b[49m\u001b[43martist\u001b[49m\u001b[43m,\u001b[49m\u001b[43m \u001b[49m\u001b[43mrenderer\u001b[49m\u001b[43m,\u001b[49m\u001b[43m \u001b[49m\u001b[43m*\u001b[49m\u001b[43margs\u001b[49m\u001b[43m,\u001b[49m\u001b[43m \u001b[49m\u001b[43m*\u001b[49m\u001b[43m*\u001b[49m\u001b[43mkwargs\u001b[49m\u001b[43m)\u001b[49m\n\u001b[32m     95\u001b[39m     \u001b[38;5;28;01mif\u001b[39;00m renderer._rasterizing:\n\u001b[32m     96\u001b[39m         renderer.stop_rasterizing()\n",
      "\u001b[36mFile \u001b[39m\u001b[32mc:\\Users\\Krishna-PC\\AppData\\Local\\Programs\\Python\\Python311\\Lib\\site-packages\\matplotlib\\artist.py:71\u001b[39m, in \u001b[36mallow_rasterization.<locals>.draw_wrapper\u001b[39m\u001b[34m(artist, renderer)\u001b[39m\n\u001b[32m     68\u001b[39m     \u001b[38;5;28;01mif\u001b[39;00m artist.get_agg_filter() \u001b[38;5;129;01mis\u001b[39;00m \u001b[38;5;129;01mnot\u001b[39;00m \u001b[38;5;28;01mNone\u001b[39;00m:\n\u001b[32m     69\u001b[39m         renderer.start_filter()\n\u001b[32m---> \u001b[39m\u001b[32m71\u001b[39m     \u001b[38;5;28;01mreturn\u001b[39;00m \u001b[43mdraw\u001b[49m\u001b[43m(\u001b[49m\u001b[43martist\u001b[49m\u001b[43m,\u001b[49m\u001b[43m \u001b[49m\u001b[43mrenderer\u001b[49m\u001b[43m)\u001b[49m\n\u001b[32m     72\u001b[39m \u001b[38;5;28;01mfinally\u001b[39;00m:\n\u001b[32m     73\u001b[39m     \u001b[38;5;28;01mif\u001b[39;00m artist.get_agg_filter() \u001b[38;5;129;01mis\u001b[39;00m \u001b[38;5;129;01mnot\u001b[39;00m \u001b[38;5;28;01mNone\u001b[39;00m:\n",
      "\u001b[36mFile \u001b[39m\u001b[32mc:\\Users\\Krishna-PC\\AppData\\Local\\Programs\\Python\\Python311\\Lib\\site-packages\\matplotlib\\figure.py:3257\u001b[39m, in \u001b[36mFigure.draw\u001b[39m\u001b[34m(self, renderer)\u001b[39m\n\u001b[32m   3254\u001b[39m             \u001b[38;5;66;03m# ValueError can occur when resizing a window.\u001b[39;00m\n\u001b[32m   3256\u001b[39m     \u001b[38;5;28mself\u001b[39m.patch.draw(renderer)\n\u001b[32m-> \u001b[39m\u001b[32m3257\u001b[39m     \u001b[43mmimage\u001b[49m\u001b[43m.\u001b[49m\u001b[43m_draw_list_compositing_images\u001b[49m\u001b[43m(\u001b[49m\n\u001b[32m   3258\u001b[39m \u001b[43m        \u001b[49m\u001b[43mrenderer\u001b[49m\u001b[43m,\u001b[49m\u001b[43m \u001b[49m\u001b[38;5;28;43mself\u001b[39;49m\u001b[43m,\u001b[49m\u001b[43m \u001b[49m\u001b[43martists\u001b[49m\u001b[43m,\u001b[49m\u001b[43m \u001b[49m\u001b[38;5;28;43mself\u001b[39;49m\u001b[43m.\u001b[49m\u001b[43msuppressComposite\u001b[49m\u001b[43m)\u001b[49m\n\u001b[32m   3260\u001b[39m     renderer.close_group(\u001b[33m'\u001b[39m\u001b[33mfigure\u001b[39m\u001b[33m'\u001b[39m)\n\u001b[32m   3261\u001b[39m \u001b[38;5;28;01mfinally\u001b[39;00m:\n",
      "\u001b[36mFile \u001b[39m\u001b[32mc:\\Users\\Krishna-PC\\AppData\\Local\\Programs\\Python\\Python311\\Lib\\site-packages\\matplotlib\\image.py:134\u001b[39m, in \u001b[36m_draw_list_compositing_images\u001b[39m\u001b[34m(renderer, parent, artists, suppress_composite)\u001b[39m\n\u001b[32m    132\u001b[39m \u001b[38;5;28;01mif\u001b[39;00m not_composite \u001b[38;5;129;01mor\u001b[39;00m \u001b[38;5;129;01mnot\u001b[39;00m has_images:\n\u001b[32m    133\u001b[39m     \u001b[38;5;28;01mfor\u001b[39;00m a \u001b[38;5;129;01min\u001b[39;00m artists:\n\u001b[32m--> \u001b[39m\u001b[32m134\u001b[39m         \u001b[43ma\u001b[49m\u001b[43m.\u001b[49m\u001b[43mdraw\u001b[49m\u001b[43m(\u001b[49m\u001b[43mrenderer\u001b[49m\u001b[43m)\u001b[49m\n\u001b[32m    135\u001b[39m \u001b[38;5;28;01melse\u001b[39;00m:\n\u001b[32m    136\u001b[39m     \u001b[38;5;66;03m# Composite any adjacent images together\u001b[39;00m\n\u001b[32m    137\u001b[39m     image_group = []\n",
      "\u001b[36mFile \u001b[39m\u001b[32mc:\\Users\\Krishna-PC\\AppData\\Local\\Programs\\Python\\Python311\\Lib\\site-packages\\matplotlib\\artist.py:71\u001b[39m, in \u001b[36mallow_rasterization.<locals>.draw_wrapper\u001b[39m\u001b[34m(artist, renderer)\u001b[39m\n\u001b[32m     68\u001b[39m     \u001b[38;5;28;01mif\u001b[39;00m artist.get_agg_filter() \u001b[38;5;129;01mis\u001b[39;00m \u001b[38;5;129;01mnot\u001b[39;00m \u001b[38;5;28;01mNone\u001b[39;00m:\n\u001b[32m     69\u001b[39m         renderer.start_filter()\n\u001b[32m---> \u001b[39m\u001b[32m71\u001b[39m     \u001b[38;5;28;01mreturn\u001b[39;00m \u001b[43mdraw\u001b[49m\u001b[43m(\u001b[49m\u001b[43martist\u001b[49m\u001b[43m,\u001b[49m\u001b[43m \u001b[49m\u001b[43mrenderer\u001b[49m\u001b[43m)\u001b[49m\n\u001b[32m     72\u001b[39m \u001b[38;5;28;01mfinally\u001b[39;00m:\n\u001b[32m     73\u001b[39m     \u001b[38;5;28;01mif\u001b[39;00m artist.get_agg_filter() \u001b[38;5;129;01mis\u001b[39;00m \u001b[38;5;129;01mnot\u001b[39;00m \u001b[38;5;28;01mNone\u001b[39;00m:\n",
      "\u001b[36mFile \u001b[39m\u001b[32mc:\\Users\\Krishna-PC\\AppData\\Local\\Programs\\Python\\Python311\\Lib\\site-packages\\matplotlib\\axes\\_base.py:3210\u001b[39m, in \u001b[36m_AxesBase.draw\u001b[39m\u001b[34m(self, renderer)\u001b[39m\n\u001b[32m   3207\u001b[39m \u001b[38;5;28;01mif\u001b[39;00m artists_rasterized:\n\u001b[32m   3208\u001b[39m     _draw_rasterized(\u001b[38;5;28mself\u001b[39m.get_figure(root=\u001b[38;5;28;01mTrue\u001b[39;00m), artists_rasterized, renderer)\n\u001b[32m-> \u001b[39m\u001b[32m3210\u001b[39m \u001b[43mmimage\u001b[49m\u001b[43m.\u001b[49m\u001b[43m_draw_list_compositing_images\u001b[49m\u001b[43m(\u001b[49m\n\u001b[32m   3211\u001b[39m \u001b[43m    \u001b[49m\u001b[43mrenderer\u001b[49m\u001b[43m,\u001b[49m\u001b[43m \u001b[49m\u001b[38;5;28;43mself\u001b[39;49m\u001b[43m,\u001b[49m\u001b[43m \u001b[49m\u001b[43martists\u001b[49m\u001b[43m,\u001b[49m\u001b[43m \u001b[49m\u001b[38;5;28;43mself\u001b[39;49m\u001b[43m.\u001b[49m\u001b[43mget_figure\u001b[49m\u001b[43m(\u001b[49m\u001b[43mroot\u001b[49m\u001b[43m=\u001b[49m\u001b[38;5;28;43;01mTrue\u001b[39;49;00m\u001b[43m)\u001b[49m\u001b[43m.\u001b[49m\u001b[43msuppressComposite\u001b[49m\u001b[43m)\u001b[49m\n\u001b[32m   3213\u001b[39m renderer.close_group(\u001b[33m'\u001b[39m\u001b[33maxes\u001b[39m\u001b[33m'\u001b[39m)\n\u001b[32m   3214\u001b[39m \u001b[38;5;28mself\u001b[39m.stale = \u001b[38;5;28;01mFalse\u001b[39;00m\n",
      "\u001b[36mFile \u001b[39m\u001b[32mc:\\Users\\Krishna-PC\\AppData\\Local\\Programs\\Python\\Python311\\Lib\\site-packages\\matplotlib\\image.py:134\u001b[39m, in \u001b[36m_draw_list_compositing_images\u001b[39m\u001b[34m(renderer, parent, artists, suppress_composite)\u001b[39m\n\u001b[32m    132\u001b[39m \u001b[38;5;28;01mif\u001b[39;00m not_composite \u001b[38;5;129;01mor\u001b[39;00m \u001b[38;5;129;01mnot\u001b[39;00m has_images:\n\u001b[32m    133\u001b[39m     \u001b[38;5;28;01mfor\u001b[39;00m a \u001b[38;5;129;01min\u001b[39;00m artists:\n\u001b[32m--> \u001b[39m\u001b[32m134\u001b[39m         \u001b[43ma\u001b[49m\u001b[43m.\u001b[49m\u001b[43mdraw\u001b[49m\u001b[43m(\u001b[49m\u001b[43mrenderer\u001b[49m\u001b[43m)\u001b[49m\n\u001b[32m    135\u001b[39m \u001b[38;5;28;01melse\u001b[39;00m:\n\u001b[32m    136\u001b[39m     \u001b[38;5;66;03m# Composite any adjacent images together\u001b[39;00m\n\u001b[32m    137\u001b[39m     image_group = []\n",
      "\u001b[36mFile \u001b[39m\u001b[32mc:\\Users\\Krishna-PC\\AppData\\Local\\Programs\\Python\\Python311\\Lib\\site-packages\\matplotlib\\artist.py:71\u001b[39m, in \u001b[36mallow_rasterization.<locals>.draw_wrapper\u001b[39m\u001b[34m(artist, renderer)\u001b[39m\n\u001b[32m     68\u001b[39m     \u001b[38;5;28;01mif\u001b[39;00m artist.get_agg_filter() \u001b[38;5;129;01mis\u001b[39;00m \u001b[38;5;129;01mnot\u001b[39;00m \u001b[38;5;28;01mNone\u001b[39;00m:\n\u001b[32m     69\u001b[39m         renderer.start_filter()\n\u001b[32m---> \u001b[39m\u001b[32m71\u001b[39m     \u001b[38;5;28;01mreturn\u001b[39;00m \u001b[43mdraw\u001b[49m\u001b[43m(\u001b[49m\u001b[43martist\u001b[49m\u001b[43m,\u001b[49m\u001b[43m \u001b[49m\u001b[43mrenderer\u001b[49m\u001b[43m)\u001b[49m\n\u001b[32m     72\u001b[39m \u001b[38;5;28;01mfinally\u001b[39;00m:\n\u001b[32m     73\u001b[39m     \u001b[38;5;28;01mif\u001b[39;00m artist.get_agg_filter() \u001b[38;5;129;01mis\u001b[39;00m \u001b[38;5;129;01mnot\u001b[39;00m \u001b[38;5;28;01mNone\u001b[39;00m:\n",
      "\u001b[36mFile \u001b[39m\u001b[32mc:\\Users\\Krishna-PC\\AppData\\Local\\Programs\\Python\\Python311\\Lib\\site-packages\\matplotlib\\collections.py:1017\u001b[39m, in \u001b[36m_CollectionWithSizes.draw\u001b[39m\u001b[34m(self, renderer)\u001b[39m\n\u001b[32m   1014\u001b[39m \u001b[38;5;129m@artist\u001b[39m.allow_rasterization\n\u001b[32m   1015\u001b[39m \u001b[38;5;28;01mdef\u001b[39;00m\u001b[38;5;250m \u001b[39m\u001b[34mdraw\u001b[39m(\u001b[38;5;28mself\u001b[39m, renderer):\n\u001b[32m   1016\u001b[39m     \u001b[38;5;28mself\u001b[39m.set_sizes(\u001b[38;5;28mself\u001b[39m._sizes, \u001b[38;5;28mself\u001b[39m.get_figure(root=\u001b[38;5;28;01mTrue\u001b[39;00m).dpi)\n\u001b[32m-> \u001b[39m\u001b[32m1017\u001b[39m     \u001b[38;5;28;43msuper\u001b[39;49m\u001b[43m(\u001b[49m\u001b[43m)\u001b[49m\u001b[43m.\u001b[49m\u001b[43mdraw\u001b[49m\u001b[43m(\u001b[49m\u001b[43mrenderer\u001b[49m\u001b[43m)\u001b[49m\n",
      "\u001b[36mFile \u001b[39m\u001b[32mc:\\Users\\Krishna-PC\\AppData\\Local\\Programs\\Python\\Python311\\Lib\\site-packages\\matplotlib\\artist.py:71\u001b[39m, in \u001b[36mallow_rasterization.<locals>.draw_wrapper\u001b[39m\u001b[34m(artist, renderer)\u001b[39m\n\u001b[32m     68\u001b[39m     \u001b[38;5;28;01mif\u001b[39;00m artist.get_agg_filter() \u001b[38;5;129;01mis\u001b[39;00m \u001b[38;5;129;01mnot\u001b[39;00m \u001b[38;5;28;01mNone\u001b[39;00m:\n\u001b[32m     69\u001b[39m         renderer.start_filter()\n\u001b[32m---> \u001b[39m\u001b[32m71\u001b[39m     \u001b[38;5;28;01mreturn\u001b[39;00m \u001b[43mdraw\u001b[49m\u001b[43m(\u001b[49m\u001b[43martist\u001b[49m\u001b[43m,\u001b[49m\u001b[43m \u001b[49m\u001b[43mrenderer\u001b[49m\u001b[43m)\u001b[49m\n\u001b[32m     72\u001b[39m \u001b[38;5;28;01mfinally\u001b[39;00m:\n\u001b[32m     73\u001b[39m     \u001b[38;5;28;01mif\u001b[39;00m artist.get_agg_filter() \u001b[38;5;129;01mis\u001b[39;00m \u001b[38;5;129;01mnot\u001b[39;00m \u001b[38;5;28;01mNone\u001b[39;00m:\n",
      "\u001b[36mFile \u001b[39m\u001b[32mc:\\Users\\Krishna-PC\\AppData\\Local\\Programs\\Python\\Python311\\Lib\\site-packages\\matplotlib\\collections.py:430\u001b[39m, in \u001b[36mCollection.draw\u001b[39m\u001b[34m(self, renderer)\u001b[39m\n\u001b[32m    421\u001b[39m         ipaths, ilinestyles = \u001b[38;5;28mself\u001b[39m._get_inverse_paths_linestyles()\n\u001b[32m    422\u001b[39m         renderer.draw_path_collection(\n\u001b[32m    423\u001b[39m             gc, transform.frozen(), ipaths,\n\u001b[32m    424\u001b[39m             \u001b[38;5;28mself\u001b[39m.get_transforms(), offsets, offset_trf,\n\u001b[32m   (...)\u001b[39m\u001b[32m    427\u001b[39m             \u001b[38;5;28mself\u001b[39m._antialiaseds, \u001b[38;5;28mself\u001b[39m._urls,\n\u001b[32m    428\u001b[39m             \u001b[33m\"\u001b[39m\u001b[33mscreen\u001b[39m\u001b[33m\"\u001b[39m)\n\u001b[32m--> \u001b[39m\u001b[32m430\u001b[39m     \u001b[43mrenderer\u001b[49m\u001b[43m.\u001b[49m\u001b[43mdraw_path_collection\u001b[49m\u001b[43m(\u001b[49m\n\u001b[32m    431\u001b[39m \u001b[43m        \u001b[49m\u001b[43mgc\u001b[49m\u001b[43m,\u001b[49m\u001b[43m \u001b[49m\u001b[43mtransform\u001b[49m\u001b[43m.\u001b[49m\u001b[43mfrozen\u001b[49m\u001b[43m(\u001b[49m\u001b[43m)\u001b[49m\u001b[43m,\u001b[49m\u001b[43m \u001b[49m\u001b[43mpaths\u001b[49m\u001b[43m,\u001b[49m\n\u001b[32m    432\u001b[39m \u001b[43m        \u001b[49m\u001b[38;5;28;43mself\u001b[39;49m\u001b[43m.\u001b[49m\u001b[43mget_transforms\u001b[49m\u001b[43m(\u001b[49m\u001b[43m)\u001b[49m\u001b[43m,\u001b[49m\u001b[43m \u001b[49m\u001b[43moffsets\u001b[49m\u001b[43m,\u001b[49m\u001b[43m \u001b[49m\u001b[43moffset_trf\u001b[49m\u001b[43m,\u001b[49m\n\u001b[32m    433\u001b[39m \u001b[43m        \u001b[49m\u001b[38;5;28;43mself\u001b[39;49m\u001b[43m.\u001b[49m\u001b[43mget_facecolor\u001b[49m\u001b[43m(\u001b[49m\u001b[43m)\u001b[49m\u001b[43m,\u001b[49m\u001b[43m \u001b[49m\u001b[38;5;28;43mself\u001b[39;49m\u001b[43m.\u001b[49m\u001b[43mget_edgecolor\u001b[49m\u001b[43m(\u001b[49m\u001b[43m)\u001b[49m\u001b[43m,\u001b[49m\n\u001b[32m    434\u001b[39m \u001b[43m        \u001b[49m\u001b[38;5;28;43mself\u001b[39;49m\u001b[43m.\u001b[49m\u001b[43m_linewidths\u001b[49m\u001b[43m,\u001b[49m\u001b[43m \u001b[49m\u001b[38;5;28;43mself\u001b[39;49m\u001b[43m.\u001b[49m\u001b[43m_linestyles\u001b[49m\u001b[43m,\u001b[49m\n\u001b[32m    435\u001b[39m \u001b[43m        \u001b[49m\u001b[38;5;28;43mself\u001b[39;49m\u001b[43m.\u001b[49m\u001b[43m_antialiaseds\u001b[49m\u001b[43m,\u001b[49m\u001b[43m \u001b[49m\u001b[38;5;28;43mself\u001b[39;49m\u001b[43m.\u001b[49m\u001b[43m_urls\u001b[49m\u001b[43m,\u001b[49m\n\u001b[32m    436\u001b[39m \u001b[43m        \u001b[49m\u001b[33;43m\"\u001b[39;49m\u001b[33;43mscreen\u001b[39;49m\u001b[33;43m\"\u001b[39;49m\u001b[43m)\u001b[49m  \u001b[38;5;66;03m# offset_position, kept for backcompat.\u001b[39;00m\n\u001b[32m    438\u001b[39m gc.restore()\n\u001b[32m    439\u001b[39m renderer.close_group(\u001b[38;5;28mself\u001b[39m.\u001b[34m__class__\u001b[39m.\u001b[34m__name__\u001b[39m)\n",
      "\u001b[36mFile \u001b[39m\u001b[32mc:\\Users\\Krishna-PC\\AppData\\Local\\Programs\\Python\\Python311\\Lib\\site-packages\\matplotlib\\path.py:223\u001b[39m, in \u001b[36mPath.codes\u001b[39m\u001b[34m(self)\u001b[39m\n\u001b[32m    220\u001b[39m     \u001b[38;5;28mself\u001b[39m._vertices = vertices\n\u001b[32m    221\u001b[39m     \u001b[38;5;28mself\u001b[39m._update_values()\n\u001b[32m--> \u001b[39m\u001b[32m223\u001b[39m \u001b[38;5;129m@property\u001b[39m\n\u001b[32m    224\u001b[39m \u001b[38;5;28;01mdef\u001b[39;00m\u001b[38;5;250m \u001b[39m\u001b[34mcodes\u001b[39m(\u001b[38;5;28mself\u001b[39m):\n\u001b[32m    225\u001b[39m \u001b[38;5;250m    \u001b[39m\u001b[33;03m\"\"\"\u001b[39;00m\n\u001b[32m    226\u001b[39m \u001b[33;03m    The list of codes in the `Path` as a 1D array.\u001b[39;00m\n\u001b[32m    227\u001b[39m \n\u001b[32m   (...)\u001b[39m\u001b[32m    231\u001b[39m \u001b[33;03m    of `vertices` and `codes` is always the same.\u001b[39;00m\n\u001b[32m    232\u001b[39m \u001b[33;03m    \"\"\"\u001b[39;00m\n\u001b[32m    233\u001b[39m     \u001b[38;5;28;01mreturn\u001b[39;00m \u001b[38;5;28mself\u001b[39m._codes\n",
      "\u001b[31mKeyboardInterrupt\u001b[39m: "
     ]
    }
   ],
   "source": [
    "# Pairplot to visualize relationships\n",
    "sns.pairplot(farm, hue='label', diag_kind='kde')\n",
    "plt.legend(title='Crops', bbox_to_anchor=(1.05, 5), loc='upper left')\n",
    "plt.show()\n"
   ]
  },
  {
   "cell_type": "code",
   "execution_count": null,
   "id": "fedd4d1a-ea82-4b52-8d5b-7a8f7de1d87e",
   "metadata": {},
   "outputs": [],
   "source": [
    "plt.figure(figsize=(12, 6))\n",
    "sns.boxplot(data=farm.drop(columns=['label']))\n",
    "plt.xticks(rotation=45)\n",
    "plt.title('Nutrient Distribution Boxplot')\n",
    "plt.show()"
   ]
  },
  {
   "cell_type": "code",
   "execution_count": null,
   "id": "92df41a5-2785-49f4-b96a-12096b5bbf26",
   "metadata": {},
   "outputs": [],
   "source": [
    "# Countplot of different crop labels\n",
    "plt.figure(figsize=(12, 6))\n",
    "sns.countplot(y=farm['label'], order=farm['label'].value_counts().index, palette='viridis')\n",
    "plt.title('Crop Distribution')\n",
    "plt.xlabel('Count')\n",
    "plt.ylabel('Crop Type')\n",
    "\n",
    "plt.show()\n",
    "\n"
   ]
  },
  {
   "cell_type": "code",
   "execution_count": null,
   "id": "b62c938b-3e34-423b-8b21-c71fe3e20010",
   "metadata": {},
   "outputs": [],
   "source": [
    "# Scatter plot of key nutrient relationships\n",
    "plt.figure(figsize=(8, 6))\n",
    "sns.scatterplot(x=farm['N'], y=farm['P'], hue=farm['label'], palette='deep')\n",
    "plt.title('Nitrogen vs Phosphorus')\n",
    "plt.xlabel('Nitrogen')\n",
    "plt.ylabel('Phosphorus')\n",
    "plt.legend(title='Crops', bbox_to_anchor=(1.05, 1), loc='upper left')\n",
    "\n",
    "plt.show()"
   ]
  },
  {
   "cell_type": "code",
   "execution_count": null,
   "id": "4f0bf841",
   "metadata": {},
   "outputs": [],
   "source": [
    "plt.figure(figsize=(8, 6))\n",
    "sns.scatterplot(x=farm['K'], y=farm['ph'], hue=farm['label'], palette='coolwarm')\n",
    "plt.title('Potassium vs pH')\n",
    "plt.xlabel('Potassium')\n",
    "plt.ylabel('pH Level')\n",
    "plt.legend(title='Crops', bbox_to_anchor=(1.05, 1), loc='upper left')\n",
    "plt.show()\n"
   ]
  },
  {
   "cell_type": "code",
   "execution_count": null,
   "id": "8493a237",
   "metadata": {},
   "outputs": [],
   "source": [
    "# Scatter plot of Temperature vs Humidity\n",
    "plt.figure(figsize=(8, 6))\n",
    "sns.scatterplot(x=farm['temperature'], y=farm['humidity'], hue=farm['label'], palette='coolwarm')\n",
    "plt.title('Temperature vs Humidity')\n",
    "plt.xlabel('Temperature (°C)')\n",
    "plt.ylabel('Humidity (%)')\n",
    "plt.legend(title='Crops', bbox_to_anchor=(1.05, 1), loc='upper left')\n",
    "plt.show()"
   ]
  },
  {
   "cell_type": "code",
   "execution_count": null,
   "id": "76106eb0-479f-4fa0-95c4-deef20b472b9",
   "metadata": {},
   "outputs": [],
   "source": [
    "# Scatter plot of Temperature vs Rainfall\n",
    "plt.figure(figsize=(8, 6))\n",
    "sns.scatterplot(x=farm['temperature'], y=farm['rainfall'], hue=farm['label'], palette='viridis')\n",
    "plt.title('Temperature vs Rainfall')\n",
    "plt.xlabel('Temperature (°C)')\n",
    "plt.ylabel('Rainfall (mm)')\n",
    "plt.legend(title='Crops', bbox_to_anchor=(1.05, 1), loc='upper left')\n",
    "plt.show()"
   ]
  },
  {
   "cell_type": "code",
   "execution_count": null,
   "id": "f9ff03e9-92e1-4f33-a796-890d30a504af",
   "metadata": {},
   "outputs": [],
   "source": [
    "# Scatter plot of Humidity vs Rainfall\n",
    "plt.figure(figsize=(8, 6))\n",
    "sns.scatterplot(x=farm['humidity'], y=farm['rainfall'], hue=farm['label'], palette='plasma')\n",
    "plt.title('Humidity vs Rainfall')\n",
    "plt.xlabel('Humidity (%)')\n",
    "plt.ylabel('Rainfall (mm)')\n",
    "plt.legend(title='Crops', bbox_to_anchor=(1.05, 1), loc='upper left')\n",
    "plt.show()"
   ]
  },
  {
   "cell_type": "code",
   "execution_count": null,
   "id": "348d85d3-18ed-469c-aa9c-20f332612c53",
   "metadata": {},
   "outputs": [],
   "source": [
    "# Bar plot comparing average temperature, humidity, and rainfall by crop label\n",
    "avg_values = farm.groupby('label')[['temperature', 'humidity', 'rainfall']].mean().reset_index()\n",
    "plt.figure(figsize=(12, 6))\n",
    "melted_avg = avg_values.melt(id_vars='label', var_name='Factor', value_name='Value')\n",
    "sns.barplot(x='label', y='Value', hue='Factor', data=melted_avg, palette='coolwarm')\n",
    "plt.xticks(rotation=90)\n",
    "plt.title('Comparison of Temperature, Humidity, and Rainfall by Crop')\n",
    "plt.xlabel('Crop Label')\n",
    "plt.ylabel('Average Value')\n",
    "plt.legend(title='Factor', bbox_to_anchor=(1.05, 1), loc='upper left')\n",
    "plt.show()"
   ]
  },
  {
   "cell_type": "code",
   "execution_count": null,
   "id": "02d5c801-565f-420e-8232-9ac68dfdb60b",
   "metadata": {},
   "outputs": [],
   "source": [
    "# Boxplot to compare temperature distribution among different crops\n",
    "plt.figure(figsize=(12, 6))\n",
    "sns.boxplot(x='label', y='temperature', data=farm, palette='coolwarm')\n",
    "plt.xticks(rotation=90)\n",
    "plt.title('Temperature Distribution Across Different Crops')\n",
    "plt.xlabel('Crop Label')\n",
    "plt.ylabel('Temperature (°C)')\n",
    "plt.show()"
   ]
  },
  {
   "cell_type": "code",
   "execution_count": null,
   "id": "cccc0c60-b4ad-44af-a54f-a063e23617d1",
   "metadata": {},
   "outputs": [],
   "source": [
    "# Boxplot to compare humidity distribution among different crops\n",
    "plt.figure(figsize=(12, 6))\n",
    "sns.boxplot(x='label', y='humidity', data=farm, palette='viridis')\n",
    "plt.xticks(rotation=90)\n",
    "plt.title('Humidity Distribution Across Different Crops')\n",
    "plt.xlabel('Crop Label')\n",
    "plt.ylabel('Humidity (%)')\n",
    "plt.show()"
   ]
  },
  {
   "cell_type": "code",
   "execution_count": null,
   "id": "a6b4e012-f20e-4f99-bd21-6577dcf6604c",
   "metadata": {},
   "outputs": [],
   "source": [
    "# Boxplot to compare rainfall distribution among different crops\n",
    "plt.figure(figsize=(12, 6))\n",
    "sns.boxplot(x='label', y='rainfall', data=farm, palette='plasma')\n",
    "plt.xticks(rotation=90)\n",
    "plt.title('Rainfall Distribution Across Different Crops')\n",
    "plt.xlabel('Crop Label')\n",
    "plt.ylabel('Rainfall (mm)')\n",
    "plt.show()"
   ]
  },
  {
   "cell_type": "code",
   "execution_count": null,
   "id": "be08c822-babe-4aa2-b49a-30aa7bfb466b",
   "metadata": {},
   "outputs": [],
   "source": []
  },
  {
   "cell_type": "code",
   "execution_count": null,
   "id": "a67f9df6-46d5-41a4-9250-ea0466c0d315",
   "metadata": {},
   "outputs": [],
   "source": []
  },
  {
   "cell_type": "code",
   "execution_count": null,
   "id": "ca986dd0-1b6c-4051-bf81-3dcbb98f2292",
   "metadata": {},
   "outputs": [],
   "source": [
    "from platform import python_version\n",
    "\n",
    "print(python_version())"
   ]
  },
  {
   "cell_type": "code",
   "execution_count": null,
   "id": "5dce97b3-a574-461c-8fc3-bb1f50122d4a",
   "metadata": {},
   "outputs": [],
   "source": []
  }
 ],
 "metadata": {
  "kernelspec": {
   "display_name": "Python 3",
   "language": "python",
   "name": "python3"
  },
  "language_info": {
   "codemirror_mode": {
    "name": "ipython",
    "version": 3
   },
   "file_extension": ".py",
   "mimetype": "text/x-python",
   "name": "python",
   "nbconvert_exporter": "python",
   "pygments_lexer": "ipython3",
   "version": "3.11.5"
  }
 },
 "nbformat": 4,
 "nbformat_minor": 5
}
