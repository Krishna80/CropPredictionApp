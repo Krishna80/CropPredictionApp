{
 "cells": [
  {
   "cell_type": "code",
   "execution_count": null,
   "id": "ada6d13c-74e9-4fc7-9ac0-f6e7717f0090",
   "metadata": {},
   "outputs": [],
   "source": [
    "import pandas as pd\n",
    "import numpy as np\n",
    "import matplotlib.pyplot as plt\n",
    "import seaborn as sns\n",
    "from sklearn.metrics import confusion_matrix\n",
    "import joblib\n",
    "\n",
    "# Load the dataset\n",
    "file_path = \"Crop_recommendation.csv\"\n",
    "farm = pd.read_csv(file_path)\n",
    "farm.sample(15)\n"
   ]
  },
  {
   "cell_type": "code",
   "execution_count": null,
   "id": "6b5fae12-d537-4556-8913-ffa640b1e694",
   "metadata": {},
   "outputs": [],
   "source": [
    "# Display basic dataset information\n",
    "print(\"Dataset Info:\\n\", farm.info())\n",
    "print(\"\\nFirst 5 Rows:\\n\", farm.head())\n",
    "\n"
   ]
  },
  {
   "cell_type": "code",
   "execution_count": null,
   "id": "4044e7be-f872-411c-84eb-ff2036a84799",
   "metadata": {},
   "outputs": [],
   "source": [
    "# Check for missing values\n",
    "print(\"\\nMissing Values:\\n\", farm.isnull().sum())\n",
    "\n"
   ]
  },
  {
   "cell_type": "code",
   "execution_count": null,
   "id": "be55b912-abce-4ea8-99c4-6a328e6959f2",
   "metadata": {},
   "outputs": [],
   "source": [
    "# Summary statistics\n",
    "desc_stats = farm.describe()\n",
    "print(\"\\nSummary Statistics:\\n\", desc_stats)\n",
    "desc_stats.to_csv(\"descriptive_statistics.csv\")\n",
    "\n",
    "\n"
   ]
  },
  {
   "cell_type": "code",
   "execution_count": null,
   "id": "76e16e75-6879-41d9-9b37-1323f368c7ea",
   "metadata": {},
   "outputs": [],
   "source": [
    "farm.label.value_counts()"
   ]
  },
  {
   "cell_type": "code",
   "execution_count": null,
   "id": "86557c75-77c2-4425-917c-f71e63140f30",
   "metadata": {},
   "outputs": [],
   "source": [
    "# Set Seaborn style\n",
    "sns.set_style(\"whitegrid\")\n",
    "\n"
   ]
  },
  {
   "cell_type": "code",
   "execution_count": null,
   "id": "f328e002-1203-4c01-92cd-1a34b3d71650",
   "metadata": {},
   "outputs": [],
   "source": [
    "# --- Visualization ---\n",
    "\n",
    "# 1. Distribution of each numerical column\n",
    "farm.hist(figsize=(12, 8), bins=20, edgecolor='black')\n",
    "plt.suptitle(\"Distribution of Numerical Features\", fontsize=14)\n",
    "plt.show()\n",
    "\n"
   ]
  },
  {
   "cell_type": "code",
   "execution_count": null,
   "id": "5cf7b1b4-bd19-46c4-b398-8543b5505eb5",
   "metadata": {},
   "outputs": [],
   "source": [
    "# 2. Correlation heatmap\n",
    "# Remove non-numeric columns for correlation analysis\n",
    "numeric_df = farm.select_dtypes(include=['number'])\n",
    "\n",
    "# Compute the correlation matrix\n",
    "corr_matrix = numeric_df.corr()\n",
    "\n",
    "# Plot the correlation heatmap\n",
    "plt.figure(figsize=(10, 8))\n",
    "sns.heatmap(corr_matrix, annot=True, cmap='coolwarm', fmt='.2f', linewidths=0.5)\n",
    "plt.title('Correlation Heatmap')\n",
    "plt.show()\n",
    "\n"
   ]
  },
  {
   "cell_type": "code",
   "execution_count": null,
   "id": "6b0329d5-a3b7-4b0b-ae11-d646fe24c25f",
   "metadata": {},
   "outputs": [],
   "source": [
    "# Pairplot to visualize relationships\n",
    "sns.pairplot(farm, hue='label', diag_kind='kde')\n",
    "plt.legend(title='Crops', bbox_to_anchor=(1.05, 5), loc='upper left')\n",
    "plt.show()\n"
   ]
  },
  {
   "cell_type": "code",
   "execution_count": null,
   "id": "fedd4d1a-ea82-4b52-8d5b-7a8f7de1d87e",
   "metadata": {},
   "outputs": [],
   "source": [
    "plt.figure(figsize=(12, 6))\n",
    "sns.boxplot(data=farm.drop(columns=['label']))\n",
    "plt.xticks(rotation=45)\n",
    "plt.title('Nutrient Distribution Boxplot')\n",
    "plt.show()"
   ]
  },
  {
   "cell_type": "code",
   "execution_count": null,
   "id": "92df41a5-2785-49f4-b96a-12096b5bbf26",
   "metadata": {},
   "outputs": [],
   "source": [
    "# Countplot of different crop labels\n",
    "plt.figure(figsize=(12, 6))\n",
    "sns.countplot(y=farm['label'], order=farm['label'].value_counts().index, palette='viridis')\n",
    "plt.title('Crop Distribution')\n",
    "plt.xlabel('Count')\n",
    "plt.ylabel('Crop Type')\n",
    "\n",
    "plt.show()\n",
    "\n"
   ]
  },
  {
   "cell_type": "code",
   "execution_count": null,
   "id": "b62c938b-3e34-423b-8b21-c71fe3e20010",
   "metadata": {},
   "outputs": [],
   "source": [
    "# Scatter plot of key nutrient relationships\n",
    "plt.figure(figsize=(8, 6))\n",
    "sns.scatterplot(x=farm['N'], y=farm['P'], hue=farm['label'], palette='deep')\n",
    "plt.title('Nitrogen vs Phosphorus')\n",
    "plt.xlabel('Nitrogen')\n",
    "plt.ylabel('Phosphorus')\n",
    "plt.legend(title='Crops', bbox_to_anchor=(1.05, 1), loc='upper left')\n",
    "\n",
    "plt.show()"
   ]
  },
  {
   "cell_type": "code",
   "execution_count": null,
   "id": "4f0bf841",
   "metadata": {},
   "outputs": [],
   "source": [
    "plt.figure(figsize=(8, 6))\n",
    "sns.scatterplot(x=farm['K'], y=farm['ph'], hue=farm['label'], palette='coolwarm')\n",
    "plt.title('Potassium vs pH')\n",
    "plt.xlabel('Potassium')\n",
    "plt.ylabel('pH Level')\n",
    "plt.legend(title='Crops', bbox_to_anchor=(1.05, 1), loc='upper left')\n",
    "plt.show()\n"
   ]
  },
  {
   "cell_type": "code",
   "execution_count": null,
   "id": "8493a237",
   "metadata": {},
   "outputs": [],
   "source": [
    "# Scatter plot of Temperature vs Humidity\n",
    "plt.figure(figsize=(8, 6))\n",
    "sns.scatterplot(x=farm['temperature'], y=farm['humidity'], hue=farm['label'], palette='coolwarm')\n",
    "plt.title('Temperature vs Humidity')\n",
    "plt.xlabel('Temperature (°C)')\n",
    "plt.ylabel('Humidity (%)')\n",
    "plt.legend(title='Crops', bbox_to_anchor=(1.05, 1), loc='upper left')\n",
    "plt.show()"
   ]
  },
  {
   "cell_type": "code",
   "execution_count": null,
   "id": "76106eb0-479f-4fa0-95c4-deef20b472b9",
   "metadata": {},
   "outputs": [],
   "source": [
    "# Scatter plot of Temperature vs Rainfall\n",
    "plt.figure(figsize=(8, 6))\n",
    "sns.scatterplot(x=farm['temperature'], y=farm['rainfall'], hue=farm['label'], palette='viridis')\n",
    "plt.title('Temperature vs Rainfall')\n",
    "plt.xlabel('Temperature (°C)')\n",
    "plt.ylabel('Rainfall (mm)')\n",
    "plt.legend(title='Crops', bbox_to_anchor=(1.05, 1), loc='upper left')\n",
    "plt.show()"
   ]
  },
  {
   "cell_type": "code",
   "execution_count": null,
   "id": "f9ff03e9-92e1-4f33-a796-890d30a504af",
   "metadata": {},
   "outputs": [],
   "source": [
    "# Scatter plot of Humidity vs Rainfall\n",
    "plt.figure(figsize=(8, 6))\n",
    "sns.scatterplot(x=farm['humidity'], y=farm['rainfall'], hue=farm['label'], palette='plasma')\n",
    "plt.title('Humidity vs Rainfall')\n",
    "plt.xlabel('Humidity (%)')\n",
    "plt.ylabel('Rainfall (mm)')\n",
    "plt.legend(title='Crops', bbox_to_anchor=(1.05, 1), loc='upper left')\n",
    "plt.show()"
   ]
  },
  {
   "cell_type": "code",
   "execution_count": null,
   "id": "348d85d3-18ed-469c-aa9c-20f332612c53",
   "metadata": {},
   "outputs": [],
   "source": [
    "# Bar plot comparing average temperature, humidity, and rainfall by crop label\n",
    "avg_values = farm.groupby('label')[['temperature', 'humidity', 'rainfall']].mean().reset_index()\n",
    "plt.figure(figsize=(12, 6))\n",
    "melted_avg = avg_values.melt(id_vars='label', var_name='Factor', value_name='Value')\n",
    "sns.barplot(x='label', y='Value', hue='Factor', data=melted_avg, palette='coolwarm')\n",
    "plt.xticks(rotation=90)\n",
    "plt.title('Comparison of Temperature, Humidity, and Rainfall by Crop')\n",
    "plt.xlabel('Crop Label')\n",
    "plt.ylabel('Average Value')\n",
    "plt.legend(title='Factor', bbox_to_anchor=(1.05, 1), loc='upper left')\n",
    "plt.show()"
   ]
  },
  {
   "cell_type": "code",
   "execution_count": null,
   "id": "02d5c801-565f-420e-8232-9ac68dfdb60b",
   "metadata": {},
   "outputs": [],
   "source": [
    "# Boxplot to compare temperature distribution among different crops\n",
    "plt.figure(figsize=(12, 6))\n",
    "sns.boxplot(x='label', y='temperature', data=farm, palette='coolwarm')\n",
    "plt.xticks(rotation=90)\n",
    "plt.title('Temperature Distribution Across Different Crops')\n",
    "plt.xlabel('Crop Label')\n",
    "plt.ylabel('Temperature (°C)')\n",
    "plt.show()"
   ]
  },
  {
   "cell_type": "code",
   "execution_count": null,
   "id": "cccc0c60-b4ad-44af-a54f-a063e23617d1",
   "metadata": {},
   "outputs": [],
   "source": [
    "# Boxplot to compare humidity distribution among different crops\n",
    "plt.figure(figsize=(12, 6))\n",
    "sns.boxplot(x='label', y='humidity', data=farm, palette='viridis')\n",
    "plt.xticks(rotation=90)\n",
    "plt.title('Humidity Distribution Across Different Crops')\n",
    "plt.xlabel('Crop Label')\n",
    "plt.ylabel('Humidity (%)')\n",
    "plt.show()"
   ]
  },
  {
   "cell_type": "code",
   "execution_count": null,
   "id": "a6b4e012-f20e-4f99-bd21-6577dcf6604c",
   "metadata": {},
   "outputs": [],
   "source": [
    "# Boxplot to compare rainfall distribution among different crops\n",
    "plt.figure(figsize=(12, 6))\n",
    "sns.boxplot(x='label', y='rainfall', data=farm, palette='plasma')\n",
    "plt.xticks(rotation=90)\n",
    "plt.title('Rainfall Distribution Across Different Crops')\n",
    "plt.xlabel('Crop Label')\n",
    "plt.ylabel('Rainfall (mm)')\n",
    "plt.show()"
   ]
  },
  {
   "cell_type": "code",
   "execution_count": null,
   "id": "be08c822-babe-4aa2-b49a-30aa7bfb466b",
   "metadata": {},
   "outputs": [],
   "source": []
  },
  {
   "cell_type": "code",
   "execution_count": null,
   "id": "a67f9df6-46d5-41a4-9250-ea0466c0d315",
   "metadata": {},
   "outputs": [],
   "source": []
  },
  {
   "cell_type": "code",
   "execution_count": null,
   "id": "ca986dd0-1b6c-4051-bf81-3dcbb98f2292",
   "metadata": {},
   "outputs": [],
   "source": [
    "from platform import python_version\n",
    "\n",
    "print(python_version())"
   ]
  },
  {
   "cell_type": "code",
   "execution_count": null,
   "id": "5dce97b3-a574-461c-8fc3-bb1f50122d4a",
   "metadata": {},
   "outputs": [],
   "source": []
  }
 ],
 "metadata": {
  "kernelspec": {
   "display_name": "Python 3",
   "language": "python",
   "name": "python3"
  },
  "language_info": {
   "codemirror_mode": {
    "name": "ipython",
    "version": 3
   },
   "file_extension": ".py",
   "mimetype": "text/x-python",
   "name": "python",
   "nbconvert_exporter": "python",
   "pygments_lexer": "ipython3",
   "version": "3.11.5"
  }
 },
 "nbformat": 4,
 "nbformat_minor": 5
}
